{
 "metadata": {
  "language_info": {
   "codemirror_mode": {
    "name": "ipython",
    "version": 3
   },
   "file_extension": ".py",
   "mimetype": "text/x-python",
   "name": "python",
   "nbconvert_exporter": "python",
   "pygments_lexer": "ipython3",
   "version": "3.8.6-final"
  },
  "orig_nbformat": 2,
  "kernelspec": {
   "name": "Python 3.8.6 64-bit",
   "display_name": "Python 3.8.6 64-bit",
   "metadata": {
    "interpreter": {
     "hash": "767d51c1340bd893661ea55ea3124f6de3c7a262a8b4abca0554b478b1e2ff90"
    }
   }
  }
 },
 "nbformat": 4,
 "nbformat_minor": 2,
 "cells": [
  {
   "source": [
    "## Newton's Forward Interpolation"
   ],
   "cell_type": "markdown",
   "metadata": {}
  },
  {
   "cell_type": "code",
   "execution_count": null,
   "metadata": {},
   "outputs": [],
   "source": [
    "def comb(n, i):\n",
    "    num = 1\n",
    "    den = 1\n",
    "\n",
    "    for j in range(0, i):\n",
    "        num *= (n-j)\n",
    "        den *= j+1\n",
    "    \n",
    "    return num/den\n",
    "\n",
    "def newton_forward_interpolation(x, y, x_pred):\n",
    "    \"\"\"\n",
    "    Arguments\n",
    "    ---------\n",
    "    x: list\n",
    "        x values\n",
    "    y: list\n",
    "        y value\n",
    "    x_pred: float\n",
    "        x value for which y value is being predicted\n",
    "    \"\"\"\n",
    "    if len(x) != len(y):\n",
    "        raise ValueError(\"x and y shape don't match\")\n",
    "\n",
    "    n = len(x)\n",
    "    h = x[1] - x[0]         # Assuming equidistant x values\n",
    "    u = (x_pred - x[0])/h\n",
    "\n",
    "    # Maintaining a column of forward difference table\n",
    "    # [Move ahead in the table in each iteration]\n",
    "    fd_col = list(y)\n",
    "    print('0:', fd_col)\n",
    "\n",
    "    y_pred = 0\n",
    "    for i in range(0, n):\n",
    "        y_pred += comb(u, i) * fd_col[0]\n",
    "        for j in range(0, n-i-1):\n",
    "            fd_col[j] = fd_col[j+1] - fd_col[j]\n",
    "        print(f'{i+1}:', fd_col[:n-i-1])\n",
    "    \n",
    "    return y_pred"
   ]
  },
  {
   "cell_type": "code",
   "execution_count": null,
   "metadata": {
    "tags": []
   },
   "outputs": [],
   "source": [
    "# Set of distint points\n",
    "x = [1, 1.02, 1.04, 1.06, 1.08]\n",
    "y = [0.242, 0.2371, 0.2323, 0.2275, 0.2227]\n",
    "\n",
    "# Find interpolated value for\n",
    "x_pred = 1.015\n",
    "\n",
    "newton_forward_interpolation(x, y, x_pred)"
   ]
  },
  {
   "source": [
    "## Newton's Backward Interpolation"
   ],
   "cell_type": "markdown",
   "metadata": {}
  },
  {
   "cell_type": "code",
   "execution_count": null,
   "metadata": {},
   "outputs": [],
   "source": [
    "def newton_backward_interpolation(x, y, x_pred):\n",
    "    \"\"\"\n",
    "    Arguments\n",
    "    ---------\n",
    "    x: list\n",
    "        x values\n",
    "    y: list\n",
    "        y value\n",
    "    x_pred: float\n",
    "        x value for which y value is being predicted\n",
    "    \"\"\"\n",
    "    if len(x) != len(y):\n",
    "        raise ValueError(\"x and y shape don't match\")\n",
    "\n",
    "    n = len(x)\n",
    "    h = x[1] - x[0]         # Assuming equidistant x values\n",
    "    u = (x_pred - x[-1])/h\n",
    "\n",
    "    # Maintaining a column of (reverse) backward difference table\n",
    "    # [Move ahead in the table in each iteration]\n",
    "    rbk_col = y[::-1]   # reverse\n",
    "    print(\"Columns are in reverse order:\")\n",
    "    print('0:', rbk_col)\n",
    "\n",
    "    y_pred = 0\n",
    "    for i in range(0, n):\n",
    "        y_pred += (-1)**i * comb(-u, i) * rbk_col[0]\n",
    "        for j in range(0, n-i-1):\n",
    "            rbk_col[j] = rbk_col[j] - rbk_col[j+1]\n",
    "        print(f'{i+1}', rbk_col[:n-i-1])\n",
    "    \n",
    "    return y_pred"
   ]
  },
  {
   "cell_type": "code",
   "execution_count": null,
   "metadata": {
    "tags": []
   },
   "outputs": [],
   "source": [
    "# Set of distint points\n",
    "x = [1, 1.05, 1.10, 1.15, 1.20, 1.25]\n",
    "y = [0.682689, 0.706282, 0.728668, 0.749856, 0.769861, 0.788700]\n",
    "\n",
    "# Find interpolated value for\n",
    "x_pred = 1.235\n",
    "\n",
    "newton_backward_interpolation(x, y, x_pred)"
   ]
  },
  {
   "source": [
    "## Newton's Divided Difference Interpolation"
   ],
   "cell_type": "markdown",
   "metadata": {}
  },
  {
   "cell_type": "code",
   "execution_count": null,
   "metadata": {},
   "outputs": [],
   "source": [
    "def newton_divided_difference_interpolation(x, y, x_pred):\n",
    "    \"\"\"\n",
    "    Arguments\n",
    "    ---------\n",
    "    x: list\n",
    "        x values\n",
    "    y: list\n",
    "        y value\n",
    "    x_pred: float\n",
    "        x value for which y value is being predicted\n",
    "    \"\"\"\n",
    "    if len(x) != len(y):\n",
    "        raise ValueError(\"x and y shape don't match\")\n",
    "\n",
    "    n = len(x)\n",
    "\n",
    "    # Maintaining a column of divided difference table\n",
    "    # [Move ahead in the table in each iteration]\n",
    "    dd_col = list(y)\n",
    "    print('0:', dd_col)\n",
    "\n",
    "    x_coef = 1\n",
    "    y_pred = 0\n",
    "    for i in range(0, n):\n",
    "        y_pred += x_coef * dd_col[0]\n",
    "        x_coef *= (x_pred - x[i])\n",
    "        for j in range(0, n-i-1):\n",
    "            dd_col[j] = (dd_col[j+1] - dd_col[j])/(x[j+i+1] - x[j])\n",
    "        print(f'{i+1}:', dd_col[:n-i-1])\n",
    "    \n",
    "    return y_pred"
   ]
  },
  {
   "cell_type": "code",
   "execution_count": null,
   "metadata": {},
   "outputs": [],
   "source": [
    "# Set of distint points\n",
    "x = [0.5, 1.5, 3.0, 5.0, 6.5, 8.0]\n",
    "y = [1.625, 5.875, 31.0, 131.0, 282.125, 521.0]\n",
    "\n",
    "# Find interpolated value for\n",
    "x_pred = 7\n",
    "\n",
    "newton_divided_difference_interpolation(x, y, x_pred)"
   ]
  },
  {
   "source": [
    "## Langrange's Interpolation"
   ],
   "cell_type": "markdown",
   "metadata": {}
  },
  {
   "cell_type": "code",
   "execution_count": null,
   "metadata": {},
   "outputs": [],
   "source": [
    "def L(n, k):\n",
    "    \"\"\"\n",
    "    Lagrange Coefficient Polynomial\n",
    "    \"\"\"\n",
    "    num = 1\n",
    "    den = 1\n",
    "    for i in range(n):\n",
    "        if i != k:\n",
    "            num *= (x_pred - x[i])\n",
    "            den *= (x[k] - x[i])\n",
    "    return num/den\n",
    "\n",
    "def lagrange_interpolation(x, y, x_pred):\n",
    "    \"\"\"\n",
    "    Arguments\n",
    "    ---------\n",
    "    x: list\n",
    "        x values\n",
    "    y: list\n",
    "        y value\n",
    "    x_pred: float\n",
    "        x value for which y value is being predicted\n",
    "    \"\"\"\n",
    "    if len(x) != len(y):\n",
    "        raise ValueError(\"x and y shape don't match\")\n",
    "\n",
    "    n = len(x)\n",
    "    y_pred = 0\n",
    "    for i in range(0, n):\n",
    "        y_pred += y[i] * L(n, i)\n",
    "    \n",
    "    return y_pred"
   ]
  },
  {
   "cell_type": "code",
   "execution_count": null,
   "metadata": {
    "tags": []
   },
   "outputs": [],
   "source": [
    "# Set of distint points\n",
    "x = [300, 304, 305, 307]\n",
    "y = [2.4771, 2.4829, 2.4843, 2.4871]\n",
    "\n",
    "# Find interpolated value for\n",
    "x_pred = 301\n",
    "\n",
    "lagrange_interpolation(x, y, x_pred)"
   ]
  },
  {
   "source": [
    "## Hermite Interpolation\n",
    "\n",
    "Using Newton's divided difference approximation"
   ],
   "cell_type": "markdown",
   "metadata": {}
  },
  {
   "cell_type": "code",
   "execution_count": null,
   "metadata": {},
   "outputs": [],
   "source": [
    "def double_each_element(l):\n",
    "    n = len(l)\n",
    "    l_new = []\n",
    "    for i in range(n):\n",
    "        l_new.append(l[i])\n",
    "        l_new.append(l[i])\n",
    "    return l_new\n",
    "\n",
    "def hermite_interpolation(x, y, y_red, x_pred):\n",
    "    \"\"\"\n",
    "    Arguments\n",
    "    ---------\n",
    "    x: list\n",
    "        x values\n",
    "    y: list\n",
    "        y value\n",
    "    y_der: list\n",
    "        y derivative values\n",
    "    x_pred: float\n",
    "        x value for which y value is being predicted\n",
    "    \"\"\"\n",
    "    if len(x) != len(y):\n",
    "        raise ValueError(\"x and y shape don't match\")\n",
    "\n",
    "    z = double_each_element(x)\n",
    "    n = len(z)\n",
    "\n",
    "    # Maintaining a column of divided difference table\n",
    "    # [Move ahead in the table in each iteration]\n",
    "    dd_col = double_each_element(y)\n",
    "    print('0:', dd_col)\n",
    "    for j in range(0, n-1):\n",
    "        if j%2 == 0:\n",
    "            dd_col[j] = y_der[j//2]\n",
    "        else:\n",
    "            dd_col[j] = (dd_col[j+1] - dd_col[j])/(z[j+1] - z[j])\n",
    "    print('1:', dd_col[:-1])\n",
    "\n",
    "    z_coef = (x_pred - z[0])\n",
    "    y_pred = y[0]\n",
    "    for i in range(1, n):\n",
    "        y_pred += z_coef * dd_col[0]\n",
    "        z_coef *= (x_pred - z[i])\n",
    "        for j in range(0, n-i-1):\n",
    "            dd_col[j] = (dd_col[j+1] - dd_col[j])/(z[j+i+1] - z[j])\n",
    "        print(f'{i+1}:', dd_col[:n-i-1])\n",
    "    \n",
    "    return y_pred\n"
   ]
  },
  {
   "cell_type": "code",
   "execution_count": null,
   "metadata": {
    "tags": []
   },
   "outputs": [],
   "source": [
    "# Set of distint points\n",
    "x = [1.3, 1.6, 1.9]\n",
    "y = [0.6200860, 0.4554022, 0.2818186]\n",
    "y_der = [-0.5220232, -0.5698958, -0.5811571]\n",
    "\n",
    "# Find interpolated value for\n",
    "x_pred = 1.5\n",
    "\n",
    "hermite_interpolation(x, y, y_der, x_pred)"
   ]
  },
  {
   "source": [
    "## Curve fitting using Principal of Least Squares"
   ],
   "cell_type": "markdown",
   "metadata": {}
  },
  {
   "cell_type": "code",
   "execution_count": null,
   "metadata": {},
   "outputs": [],
   "source": [
    "import numpy as np\n",
    "\n",
    "def curve_fit(x, y, deg=1):\n",
    "    \"\"\"\n",
    "    Arguments\n",
    "    ---------\n",
    "    x: numpy.array\n",
    "        x values\n",
    "    y: numpy.array\n",
    "        y value\n",
    "    deg: int\n",
    "        Degree of interpolated polynomial\n",
    "\n",
    "    Returns\n",
    "    -------\n",
    "    np.array:\n",
    "        Returns coefficients of polynomial\n",
    "        [Starting from highest degree]\n",
    "    \"\"\"\n",
    "    n = deg+1\n",
    "    X = np.zeros((n, n))\n",
    "    Y = np.zeros(n)\n",
    "\n",
    "    # Initialize X\n",
    "    for i in range(0, n):\n",
    "        for j in range(0, n):\n",
    "            X[i][j] = np.sum(x**(i+j))\n",
    "    \n",
    "    # Initialize Y\n",
    "    for i in range(0, n):\n",
    "        Y[i] = np.sum(y*x**(i))\n",
    "\n",
    "    A =  np.linalg.solve(X, Y)\n",
    "\n",
    "    return np.flip(A)"
   ]
  },
  {
   "cell_type": "code",
   "execution_count": null,
   "metadata": {
    "tags": []
   },
   "outputs": [],
   "source": [
    "# Degree 2\n",
    "\n",
    "import numpy as np\n",
    "\n",
    "x = np.array([0, 0.25, 0.5, 0.75, 1.0])\n",
    "y = np.array([1.0000, 1.2840, 1.6487, 2.1170, 2.7183])\n",
    "deg = 2\n",
    "\n",
    "curve_fit(x, y, deg)"
   ]
  },
  {
   "cell_type": "code",
   "execution_count": null,
   "metadata": {},
   "outputs": [],
   "source": [
    "# Degree 1 - linear\n",
    "\n",
    "import numpy as np\n",
    "\n",
    "x = np.array([1, 2, 3, 4, 5, 6, 7, 8, 9, 10])\n",
    "y = np.array([1.3, 3.5, 4.2, 5.0, 7.0, 8.8, 10.1, 12.5, 13.0, 15.6])\n",
    "\n",
    "curve_fit(x, y)"
   ]
  }
 ]
}