{
 "metadata": {
  "language_info": {
   "codemirror_mode": {
    "name": "ipython",
    "version": 3
   },
   "file_extension": ".py",
   "mimetype": "text/x-python",
   "name": "python",
   "nbconvert_exporter": "python",
   "pygments_lexer": "ipython3",
   "version": "3.8.6-final"
  },
  "orig_nbformat": 2,
  "kernelspec": {
   "name": "Python 3.8.6 64-bit",
   "display_name": "Python 3.8.6 64-bit",
   "metadata": {
    "interpreter": {
     "hash": "767d51c1340bd893661ea55ea3124f6de3c7a262a8b4abca0554b478b1e2ff90"
    }
   }
  }
 },
 "nbformat": 4,
 "nbformat_minor": 2,
 "cells": [
  {
   "source": [
    "## Newton's Forward Interpolation"
   ],
   "cell_type": "markdown",
   "metadata": {}
  },
  {
   "cell_type": "code",
   "execution_count": 3,
   "metadata": {},
   "outputs": [],
   "source": [
    "def comb(n, i):\n",
    "    num = 1\n",
    "    den = 1\n",
    "\n",
    "    for j in range(0, i):\n",
    "        num *= (n-j)\n",
    "        den *= j+1\n",
    "    \n",
    "    return num/den\n",
    "\n",
    "def newton_forward_interpolation(x, y, x_pred):\n",
    "    \"\"\"\n",
    "    Arguments\n",
    "    ---------\n",
    "    x: list\n",
    "        x values\n",
    "    y: list\n",
    "        y value\n",
    "    x_pred: float\n",
    "        x value for which y value is being predicted\n",
    "    \"\"\"\n",
    "    if len(x) != len(y):\n",
    "        raise ValueError(\"x and y shape don't match\")\n",
    "\n",
    "    n = len(x)\n",
    "    h = x[1] - x[0]         # Assuming equidistant x values\n",
    "    u = (x_pred - x[0])/h\n",
    "\n",
    "    # Maintaining a column of forward difference table\n",
    "    # [Move ahead in the table in each iteration]\n",
    "    fd_col = list(y)\n",
    "    print(fd_col, \"\\n\")\n",
    "\n",
    "    y_pred = 0\n",
    "    for i in range(0, n):\n",
    "        y_pred += comb(u, i) * fd_col[0]\n",
    "        for j in range(0, n-i-1):\n",
    "            fd_col[j] = fd_col[j+1] - fd_col[j]\n",
    "        print(fd_col[:n-i-1], \"\\n\")\n",
    "    \n",
    "    return y_pred"
   ]
  },
  {
   "cell_type": "code",
   "execution_count": 5,
   "metadata": {
    "tags": []
   },
   "outputs": [
    {
     "output_type": "stream",
     "name": "stdout",
     "text": "[0.242, 0.2371, 0.2323, 0.2275, 0.2227] \n\n[-0.004899999999999988, -0.004799999999999999, -0.004799999999999999, -0.004799999999999999] \n\n[9.999999999998899e-05, 0.0, 0.0] \n\n[-9.999999999998899e-05, 0.0] \n\n[9.999999999998899e-05] \n\n[] \n\n"
    },
    {
     "output_type": "execute_result",
     "data": {
      "text/plain": "0.23830952148437504"
     },
     "metadata": {},
     "execution_count": 5
    }
   ],
   "source": [
    "# Set of distint points\n",
    "x = [1, 1.02, 1.04, 1.06, 1.08]\n",
    "y = [0.242, 0.2371, 0.2323, 0.2275, 0.2227]\n",
    "\n",
    "# Find interpolated value for\n",
    "x_pred = 1.015\n",
    "\n",
    "newton_forward_interpolation(x, y, x_pred)"
   ]
  },
  {
   "source": [
    "## Newton's Backward Interpolation"
   ],
   "cell_type": "markdown",
   "metadata": {}
  },
  {
   "cell_type": "code",
   "execution_count": 11,
   "metadata": {},
   "outputs": [],
   "source": [
    "def newton_backward_interpolation(x, y, x_pred):\n",
    "    \"\"\"\n",
    "    Arguments\n",
    "    ---------\n",
    "    x: list\n",
    "        x values\n",
    "    y: list\n",
    "        y value\n",
    "    x_pred: float\n",
    "        x value for which y value is being predicted\n",
    "    \"\"\"\n",
    "    if len(x) != len(y):\n",
    "        raise ValueError(\"x and y shape don't match\")\n",
    "\n",
    "    n = len(x)\n",
    "    h = x[1] - x[0]         # Assuming equidistant x values\n",
    "    u = (x_pred - x[-1])/h\n",
    "\n",
    "    # Maintaining a column of (reverse) backward difference table\n",
    "    # [Move ahead in the table in each iteration]\n",
    "    rbk_col = y[::-1]   # !!!reverse\n",
    "    print(rbk_col, \"\\n\")\n",
    "\n",
    "    y_pred = 0\n",
    "    for i in range(0, n):\n",
    "        y_pred += (-1)**i * comb(-u, i) * rbk_col[0]\n",
    "        for j in range(0, n-i-1):\n",
    "            rbk_col[j] = rbk_col[j] - rbk_col[j+1]\n",
    "        print(rbk_col[:n-i-1], \"\\n\")\n",
    "    \n",
    "    return y_pred"
   ]
  },
  {
   "cell_type": "code",
   "execution_count": 12,
   "metadata": {
    "tags": []
   },
   "outputs": [
    {
     "output_type": "stream",
     "name": "stdout",
     "text": "[0.7887, 0.769861, 0.749856, 0.728668, 0.706282, 0.682689] \n\n[0.01883899999999994, 0.02000500000000005, 0.021187999999999985, 0.022386000000000017, 0.023592999999999975] \n\n[-0.0011660000000001114, -0.001182999999999934, -0.0011980000000000324, -0.001206999999999958] \n\n[1.6999999999822712e-05, 1.5000000000098268e-05, 8.999999999925734e-06] \n\n[1.9999999997244444e-06, 6.000000000172534e-06] \n\n[-4.0000000004480896e-06] \n\n[] \n\n"
    },
    {
     "output_type": "execute_result",
     "data": {
      "text/plain": "0.7831697570560001"
     },
     "metadata": {},
     "execution_count": 12
    }
   ],
   "source": [
    "# Set of distint points\n",
    "x = [1, 1.05, 1.10, 1.15, 1.20, 1.25]\n",
    "y = [0.682689, 0.706282, 0.728668, 0.749856, 0.769861, 0.788700]\n",
    "\n",
    "# Find interpolated value for\n",
    "x_pred = 1.235\n",
    "\n",
    "newton_backward_interpolation(x, y, x_pred)"
   ]
  },
  {
   "source": [
    "## Newton's Divided Difference Interpolation"
   ],
   "cell_type": "markdown",
   "metadata": {}
  },
  {
   "cell_type": "code",
   "execution_count": 13,
   "metadata": {},
   "outputs": [],
   "source": [
    "def newton_divided_difference_interpolation(x, y, x_pred):\n",
    "    \"\"\"\n",
    "    Arguments\n",
    "    ---------\n",
    "    x: list\n",
    "        x values\n",
    "    y: list\n",
    "        y value\n",
    "    x_pred: float\n",
    "        x value for which y value is being predicted\n",
    "    \"\"\"\n",
    "    if len(x) != len(y):\n",
    "        raise ValueError(\"x and y shape don't match\")\n",
    "\n",
    "    n = len(x)\n",
    "\n",
    "    # Maintaining a column of divided difference table\n",
    "    # [Move ahead in the table in each iteration]\n",
    "    dd_col = list(y)\n",
    "    print(dd_col, \"\\n\")\n",
    "\n",
    "    x_coef = 1\n",
    "    y_pred = 0\n",
    "    for i in range(0, n):\n",
    "        y_pred += x_coef * dd_col[0]\n",
    "        x_coef *= (x_pred - x[i])\n",
    "        for j in range(0, n-i-1):\n",
    "            dd_col[j] = (dd_col[j+1] - dd_col[j])/(x[j+i+1] - x[j])\n",
    "        print(dd_col[:n-i-1], \"\\n\")\n",
    "    \n",
    "    return y_pred"
   ]
  },
  {
   "cell_type": "code",
   "execution_count": 14,
   "metadata": {
    "tags": []
   },
   "outputs": [
    {
     "output_type": "stream",
     "name": "stdout",
     "text": "[1.625, 5.875, 31.0, 131.0, 282.125, 521.0] \n\n[4.25, 16.75, 50.0, 100.75, 159.25] \n\n[5.0, 9.5, 14.5, 19.5] \n\n[1.0, 1.0, 1.0] \n\n[0.0, 0.0] \n\n[0.0] \n\n[] \n\n"
    },
    {
     "output_type": "execute_result",
     "data": {
      "text/plain": "351.0"
     },
     "metadata": {},
     "execution_count": 14
    }
   ],
   "source": [
    "# Set of distint points\n",
    "x = [0.5, 1.5, 3.0, 5.0, 6.5, 8.0]\n",
    "y = [1.625, 5.875, 31.0, 131.0, 282.125, 521.0]\n",
    "\n",
    "# Find interpolated value for\n",
    "x_pred = 7\n",
    "\n",
    "newton_divided_difference_interpolation(x, y, x_pred)"
   ]
  },
  {
   "source": [
    "## Langrange's Interpolation"
   ],
   "cell_type": "markdown",
   "metadata": {}
  },
  {
   "cell_type": "code",
   "execution_count": 19,
   "metadata": {},
   "outputs": [],
   "source": [
    "def L(n, k):\n",
    "    \"\"\"\n",
    "    Lagrange Coefficient Polynomial\n",
    "    \"\"\"\n",
    "    num = 1\n",
    "    den = 1\n",
    "    for i in range(n):\n",
    "        if i != k:\n",
    "            num *= (x_pred - x[i])\n",
    "            den *= (x[k] - x[i])\n",
    "    return num/den\n",
    "\n",
    "def lagrange_interpolation(x, y, x_pred):\n",
    "    \"\"\"\n",
    "    Arguments\n",
    "    ---------\n",
    "    x: list\n",
    "        x values\n",
    "    y: list\n",
    "        y value\n",
    "    x_pred: float\n",
    "        x value for which y value is being predicted\n",
    "    \"\"\"\n",
    "    if len(x) != len(y):\n",
    "        raise ValueError(\"x and y shape don't match\")\n",
    "\n",
    "    n = len(x)\n",
    "    y_pred = 0\n",
    "    for i in range(0, n):\n",
    "        y_pred += y[i] * L(n, i)\n",
    "        print(f\"L({n-1}, {i}) = {L(n-1, i)}\\n\")\n",
    "    \n",
    "    return y_pred"
   ]
  },
  {
   "cell_type": "code",
   "execution_count": 20,
   "metadata": {
    "tags": []
   },
   "outputs": [
    {
     "output_type": "stream",
     "name": "stdout",
     "text": "L(3, 0) = 0.6\n\nL(3, 1) = 1.0\n\nL(3, 2) = -0.6\n\nL(3, 3) = 0.2857142857142857\n\n"
    },
    {
     "output_type": "execute_result",
     "data": {
      "text/plain": "2.4785971428571423"
     },
     "metadata": {},
     "execution_count": 20
    }
   ],
   "source": [
    "# Set of distint points\n",
    "x = [300, 304, 305, 307]\n",
    "y = [2.4771, 2.4829, 2.4843, 2.4871]\n",
    "\n",
    "# Find interpolated value for\n",
    "x_pred = 301\n",
    "\n",
    "lagrange_interpolation(x, y, x_pred)"
   ]
  },
  {
   "source": [
    "## Hermite Interpolation\n",
    "\n",
    "Using Newton's divided difference approximation"
   ],
   "cell_type": "markdown",
   "metadata": {}
  },
  {
   "cell_type": "code",
   "execution_count": 22,
   "metadata": {},
   "outputs": [],
   "source": [
    "def double_each_element(l):\n",
    "    n = len(l)\n",
    "    l_new = []\n",
    "    for i in range(n):\n",
    "        l_new.append(l[i])\n",
    "        l_new.append(l[i])\n",
    "    return l_new\n",
    "\n",
    "def hermite_interpolation(x, y, y_red, x_pred):\n",
    "    \"\"\"\n",
    "    Arguments\n",
    "    ---------\n",
    "    x: list\n",
    "        x values\n",
    "    y: list\n",
    "        y value\n",
    "    y_der: list\n",
    "        y derivative values\n",
    "    x_pred: float\n",
    "        x value for which y value is being predicted\n",
    "    \"\"\"\n",
    "    if len(x) != len(y):\n",
    "        raise ValueError(\"x and y shape don't match\")\n",
    "\n",
    "    z = double_each_element(x)\n",
    "    n = len(z)\n",
    "\n",
    "    # Maintaining a column of divided difference table\n",
    "    # [Move ahead in the table in each iteration]\n",
    "    dd_col = double_each_element(y)\n",
    "    print(dd_col, \"\\n\")\n",
    "\n",
    "    for j in range(0, n-1):\n",
    "        if j%2 == 0:\n",
    "            dd_col[j] = y_der[j//2]\n",
    "        else:\n",
    "            dd_col[j] = (dd_col[j+1] - dd_col[j])/(z[j+1] - z[j])\n",
    "    print(dd_col[:n-1], \"\\n\")\n",
    "\n",
    "    z_coef = (x_pred - z[0])\n",
    "    y_pred = y[0]\n",
    "    for i in range(1, n):\n",
    "        y_pred += z_coef * dd_col[0]\n",
    "        z_coef *= (x_pred - z[i])\n",
    "        for j in range(0, n-i-1):\n",
    "            dd_col[j] = (dd_col[j+1] - dd_col[j])/(z[j+i+1] - z[j])\n",
    "        print(dd_col[:n-i-1], \"\\n\")\n",
    "    \n",
    "    return y_pred\n"
   ]
  },
  {
   "cell_type": "code",
   "execution_count": 23,
   "metadata": {
    "tags": []
   },
   "outputs": [
    {
     "output_type": "stream",
     "name": "stdout",
     "text": "[0.620086, 0.620086, 0.4554022, 0.4554022, 0.2818186, 0.2818186] \n\n[-0.5220232, -0.548946, -0.5698958, -0.5786120000000003, -0.5811571] \n\n[-0.08974266666666673, -0.06983266666666635, -0.029054000000001336, -0.008483666666665451] \n\n[0.06636666666666795, 0.0679644444444417, 0.06856777777778632] \n\n[0.0026629629629562617, 0.0010055555555743558] \n\n[-0.0027623456789698437] \n\n[] \n\n"
    },
    {
     "output_type": "execute_result",
     "data": {
      "text/plain": "0.5118276938271605"
     },
     "metadata": {},
     "execution_count": 23
    }
   ],
   "source": [
    "# Set of distint points\n",
    "x = [1.3, 1.6, 1.9]\n",
    "y = [0.6200860, 0.4554022, 0.2818186]\n",
    "y_der = [-0.5220232, -0.5698958, -0.5811571]\n",
    "\n",
    "# Find interpolated value for\n",
    "x_pred = 1.5\n",
    "\n",
    "hermite_interpolation(x, y, y_der, x_pred)"
   ]
  },
  {
   "source": [
    "## Curve fitting using Principal of Least Squares"
   ],
   "cell_type": "markdown",
   "metadata": {}
  },
  {
   "cell_type": "code",
   "execution_count": 3,
   "metadata": {},
   "outputs": [],
   "source": [
    "import numpy as np\n",
    "\n",
    "def output(str, v):\n",
    "    print(f'{str} = {v} | sum = {np.sum(v)}\\n')\n",
    "\n",
    "def curve_fit(x, y, deg=1):\n",
    "    \"\"\"\n",
    "    Arguments\n",
    "    ---------\n",
    "    x: numpy.array\n",
    "        x values\n",
    "    y: numpy.array\n",
    "        y value\n",
    "    deg: int\n",
    "        Degree of interpolated polynomial\n",
    "\n",
    "    Returns\n",
    "    -------\n",
    "    np.array:\n",
    "        Returns coefficients of polynomial\n",
    "        [Starting from highest degree]\n",
    "    \"\"\"\n",
    "    n = deg+1\n",
    "    X = np.zeros((n, n))\n",
    "    Y = np.zeros(n)\n",
    "\n",
    "    # Details\n",
    "    # output('x**0', x**0)\n",
    "    # output('x**1', x**1)\n",
    "    # output('x**2', x**2)\n",
    "    # output('x**3', x**3)\n",
    "    # output('x**4', x**4)\n",
    "    # output('x**5', x**5)\n",
    "    # output('x**6', x**6)\n",
    "\n",
    "    output('y', y)\n",
    "    # output('yx', y*x)\n",
    "    # output('yx**2', y*x**2)\n",
    "    # output('yx**3', y*x**3)\n",
    "\n",
    "    # Initialize X\n",
    "    for i in range(0, n):\n",
    "        for j in range(0, n):\n",
    "            X[i][j] = np.sum(x**(i+j))\n",
    "    \n",
    "    # Initialize Y\n",
    "    for i in range(0, n):\n",
    "        Y[i] = np.sum(y*x**(i))\n",
    "\n",
    "    print(X)\n",
    "    print(Y)\n",
    "\n",
    "    A =  np.linalg.solve(X, Y)\n",
    "\n",
    "    return np.flip(A)"
   ]
  },
  {
   "cell_type": "code",
   "execution_count": 4,
   "metadata": {
    "tags": []
   },
   "outputs": [
    {
     "output_type": "stream",
     "name": "stdout",
     "text": "y = [102.56 113.18 130.11 142.05 167.53 195.14 224.87 256.73 299.5  326.72] | sum = 1958.39\n\n[[1.00000000e+01 5.41000000e+01 3.03390000e+02 1.75983100e+03]\n [5.41000000e+01 3.03390000e+02 1.75983100e+03 1.05231207e+04]\n [3.03390000e+02 1.75983100e+03 1.05231207e+04 6.46079775e+04]\n [1.75983100e+03 1.05231207e+04 6.46079775e+04 4.05616744e+05]]\n[  1958.39     11366.843    68006.6811  417730.09823]\n"
    },
    {
     "output_type": "execute_result",
     "data": {
      "text/plain": "array([-0.01367456,  6.84557777, -2.37922111,  3.42909438])"
     },
     "metadata": {},
     "execution_count": 4
    }
   ],
   "source": [
    "# Degree 2\n",
    "\n",
    "import numpy as np\n",
    "\n",
    "x = np.array([4, 4.2, 4.5, 4.7, 5.1, 5.5, 5.9, 6.3, 6.8, 7.1])\n",
    "y = np.array([102.56, 113.18, 130.11, 142.05, 167.53, 195.14, 224.87, 256.73, 299.50, 326.72])\n",
    "deg = 3\n",
    "\n",
    "curve_fit(x, y, deg)"
   ]
  },
  {
   "cell_type": "code",
   "execution_count": 26,
   "metadata": {},
   "outputs": [],
   "source": [
    "f = lambda x: -0.01367456*x**3 +  6.84557777*x**2 - 2.37922111*x + 3.42909438"
   ]
  },
  {
   "cell_type": "code",
   "execution_count": 38,
   "metadata": {},
   "outputs": [
    {
     "output_type": "execute_result",
     "data": {
      "text/plain": "326.72792444054"
     },
     "metadata": {},
     "execution_count": 38
    }
   ],
   "source": [
    "f(7.1)"
   ]
  },
  {
   "cell_type": "code",
   "execution_count": 25,
   "metadata": {},
   "outputs": [
    {
     "output_type": "execute_result",
     "data": {
      "text/plain": "array([ 1.53818182, -0.36      ])"
     },
     "metadata": {},
     "execution_count": 25
    }
   ],
   "source": [
    "# Degree 1 - linear\n",
    "\n",
    "import numpy as np\n",
    "\n",
    "x = np.array([1, 2, 3, 4, 5, 6, 7, 8, 9, 10])\n",
    "y = np.array([1.3, 3.5, 4.2, 5.0, 7.0, 8.8, 10.1, 12.5, 13.0, 15.6])\n",
    "\n",
    "curve_fit(x, y)"
   ]
  },
  {
   "source": [
    "## Numerical Differenciation"
   ],
   "cell_type": "markdown",
   "metadata": {}
  },
  {
   "cell_type": "code",
   "execution_count": 6,
   "metadata": {},
   "outputs": [],
   "source": [
    "import numpy as np\n",
    "from math import inf\n",
    "\n",
    "def two_point_formula(x, y):\n",
    "    n = len(x)\n",
    "    h = x[1] - x[0]\n",
    "    \n",
    "    lep = [inf for i in range(n)]\n",
    "    rep = [inf for i in range(n)]\n",
    "\n",
    "    for i in range(n):\n",
    "        if i < n-1:\n",
    "            lep[i] = (y[i+1] - y[i])/h\n",
    "        if i > 0:\n",
    "            rep[i] = (y[i] - y[i-1])/h\n",
    "    \n",
    "    print(\"LEP\")\n",
    "    print(lep)\n",
    "    print(\"REP\")\n",
    "    print(rep)\n",
    "\n",
    "def three_point_formula(x, y):\n",
    "    n = len(x)\n",
    "    h = x[1] - x[0]\n",
    "    \n",
    "    lep = [inf for i in range(n)]\n",
    "    mid = [inf for i in range(n)]\n",
    "    rep = [inf for i in range(n)]\n",
    "\n",
    "    for i in range(n):\n",
    "        if i < n-2:\n",
    "            lep[i] = (-3*y[i] + 4*y[i+1] - y[i+2])/(2*h)\n",
    "        if i > 1:\n",
    "            rep[i] = (-3*y[i] + 4*y[i-1] - y[i-2])/(2*-h)\n",
    "        if i > 0 and i < n-1:\n",
    "            mid[i] = (-y[i-1] + y[i+1])/(2*h)\n",
    "    \n",
    "    print(\"LEP\")\n",
    "    print(lep)\n",
    "    print(\"MID\")\n",
    "    print(mid)\n",
    "    print(\"REP\")\n",
    "    print(rep)\n",
    "\n",
    "def five_point_formula(x, y):\n",
    "    n = len(x)\n",
    "    h = x[1] - x[0]\n",
    "    \n",
    "    lep = [inf for i in range(n)]\n",
    "    mid = [inf for i in range(n)]\n",
    "    rep = [inf for i in range(n)]\n",
    "\n",
    "    for i in range(n):\n",
    "        if i < n-4:\n",
    "            lep[i] = (-25*y[i] + 48*y[i+1] -36*y[i+2] + 16*y[i+3] -3*y[i+4])/(12*h)\n",
    "        if i > 3:\n",
    "            rep[i] = (-25*y[i] + 48*y[i-1] -36*y[i-2] + 16*y[i-3] -3*y[i-4])/(12*-h)\n",
    "        if i > 1 and i < n-2:\n",
    "            mid[i] = (y[i-2] - 8*y[i-1] + 8*y[i+1] - y[i+2])/(12*h)\n",
    "    \n",
    "    print(\"LEP\")\n",
    "    print(lep)\n",
    "    print(\"MID\")\n",
    "    print(mid)\n",
    "    print(\"REP\")\n",
    "    print(rep)\n",
    "\n",
    "def three_point_formula2(x, y):\n",
    "    n = len(x)\n",
    "    h = x[1] - x[0]\n",
    "    \n",
    "    mid = [inf for i in range(n)]\n",
    "\n",
    "    for i in range(n):\n",
    "        if i > 0 and i < n-1:\n",
    "            mid[i] = (y[i-1] - 2*y[i] + y[i+1])/(h**2)\n",
    "    \n",
    "    print(\"MID\")\n",
    "    print(mid)"
   ]
  },
  {
   "cell_type": "code",
   "execution_count": 18,
   "metadata": {
    "tags": []
   },
   "outputs": [
    {
     "output_type": "stream",
     "name": "stdout",
     "text": "LEP\n[-0.31047099999999994, -0.5486649999999998, -0.8471434999999999, -1.2711790000000003, inf]\nREP\n[inf, -0.31047099999999994, -0.5486649999999998, -0.8471434999999999, -1.2711790000000003]\n"
    }
   ],
   "source": [
    "import numpy as np\n",
    "\n",
    "x = np.array([0.2, 0.4, 0.6, 0.8, 1.0])\n",
    "y = np.array([0.9798652, 0.9177710, 0.808038, 0.6386093, 0.3843735])\n",
    "\n",
    "two_point_formula(x, y)"
   ]
  },
  {
   "cell_type": "code",
   "execution_count": 19,
   "metadata": {
    "tags": []
   },
   "outputs": [
    {
     "output_type": "stream",
     "name": "stdout",
     "text": "LEP\n[-0.19137400000000027, -0.3994257499999995, -0.6351257500000003, inf, inf]\nMID\n[inf, -0.4295679999999999, -0.6979042499999999, -1.05916125, inf]\nREP\n[inf, inf, -0.6677619999999992, -0.9963827500000002, -1.4831967500000003]\n"
    }
   ],
   "source": [
    "three_point_formula(x, y)"
   ]
  },
  {
   "cell_type": "code",
   "execution_count": 16,
   "metadata": {
    "tags": []
   },
   "outputs": [
    {
     "output_type": "stream",
     "name": "stdout",
     "text": "LEP\n[-0.19515070833333367, inf, inf, inf, inf]\nMID\n[inf, inf, -0.6824174583333331, inf, inf]\nREP\n[inf, inf, inf, inf, -1.5413672083333336]\n"
    }
   ],
   "source": [
    "five_point_formula(x, y)"
   ]
  },
  {
   "cell_type": "code",
   "execution_count": 20,
   "metadata": {
    "tags": []
   },
   "outputs": [
    {
     "output_type": "stream",
     "name": "stdout",
     "text": "MID\n[inf, -1.1909699999999992, -1.4923925000000002, -2.1201775000000014, inf]\n"
    }
   ],
   "source": [
    "three_point_formula2(x, y)"
   ]
  },
  {
   "cell_type": "code",
   "execution_count": null,
   "metadata": {},
   "outputs": [],
   "source": []
  }
 ]
}