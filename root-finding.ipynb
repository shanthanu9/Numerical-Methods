{
 "metadata": {
  "language_info": {
   "codemirror_mode": {
    "name": "ipython",
    "version": 3
   },
   "file_extension": ".py",
   "mimetype": "text/x-python",
   "name": "python",
   "nbconvert_exporter": "python",
   "pygments_lexer": "ipython3",
   "version": "3.8.6-final"
  },
  "orig_nbformat": 2,
  "kernelspec": {
   "name": "python3",
   "display_name": "Python 3"
  }
 },
 "nbformat": 4,
 "nbformat_minor": 2,
 "cells": [
  {
   "cell_type": "markdown",
   "metadata": {},
   "source": [
    "# Root finding problem\n",
    "\n",
    "Finding root or solution for an equation of the form `f(x) = 0`."
   ]
  },
  {
   "cell_type": "markdown",
   "metadata": {},
   "source": [
    "## Finding simple roots\n",
    "\n",
    "We will first look at finding \"simple\" roots, i.e. roots with multiplicuty 1,\n",
    "of the function."
   ]
  },
  {
   "cell_type": "markdown",
   "metadata": {},
   "source": [
    "## Bisection method"
   ]
  },
  {
   "cell_type": "code",
   "execution_count": 10,
   "metadata": {},
   "outputs": [],
   "source": [
    "def bisection(f, a, b, tol):\n",
    "    \"\"\"\n",
    "    Arguments\n",
    "    ---------\n",
    "    f: function\n",
    "        function 'f' to find root of\n",
    "    a: float\n",
    "    b: float\n",
    "        a and b such that f(a)*f(b) < 0\n",
    "    tol: float\n",
    "        tolerance\n",
    "    \"\"\"\n",
    "    \n",
    "    p = (a + b)/2.0\n",
    "    while b - p > tol:\n",
    "        print(f\"a={a}, b={b}, p={p}, b-p={b-p}, f(p)={f(p)}\\n\")\n",
    "        if f(p) == 0:\n",
    "            break\n",
    "        elif f(a)*f(p) < 0:\n",
    "            b = p\n",
    "        else:\n",
    "            a = p\n",
    "        p = (a + b)/2.0\n",
    "\n",
    "    print(f\"a={a}, b={b}, p={p}, b-p={b-p}, f(p)={f(p)}\\n\")\n",
    "    return p"
   ]
  },
  {
   "cell_type": "code",
   "execution_count": 11,
   "metadata": {
    "tags": []
   },
   "outputs": [
    {
     "output_type": "stream",
     "name": "stdout",
     "text": "a=1, b=2, p=1.5, b-p=0.5, f(p)=-0.7902934083928368\n\na=1, b=1.5, p=1.25, b-p=0.25, f(p)=-0.10504829345860767\n\na=1, b=1.25, p=1.125, b-p=0.125, f(p)=0.1957971444950939\n\na=1.125, b=1.25, p=1.1875, b-p=0.0625, f(p)=0.049375809858467345\n\na=1.1875, b=1.25, p=1.21875, b-p=0.03125, f(p)=-0.026872879225604773\n\na=1.1875, b=1.21875, p=1.203125, b-p=0.015625, f(p)=0.011497004388783427\n\na=1.203125, b=1.21875, p=1.2109375, b-p=0.0078125, f(p)=-0.007627135333115209\n\na=1.203125, b=1.2109375, p=1.20703125, b-p=0.00390625, f(p)=0.001950208176382695\n\na=1.20703125, b=1.2109375, p=1.208984375, b-p=0.001953125, f(p)=-0.0028346542889856607\n\na=1.20703125, b=1.208984375, p=1.2080078125, b-p=0.0009765625, f(p)=-0.0004412695924744803\n\n"
    },
    {
     "output_type": "execute_result",
     "data": {
      "text/plain": "1.2080078125"
     },
     "metadata": {},
     "execution_count": 11
    }
   ],
   "source": [
    "## Using Bisection method\n",
    "\n",
    "from math import cos, sin, inf\n",
    "\n",
    "f = lambda x: sin(x) + 3*cos(x) - 2\n",
    "a = 1\n",
    "b = 2\n",
    "tol = 1e-3\n",
    "\n",
    "bisection(f, a, b, tol)"
   ]
  },
  {
   "cell_type": "markdown",
   "metadata": {},
   "source": [
    "## Fixed Point method"
   ]
  },
  {
   "cell_type": "code",
   "execution_count": 32,
   "metadata": {},
   "outputs": [],
   "source": [
    "def fixed_point(g, x, tol, n):\n",
    "    \"\"\"\n",
    "    Arguments\n",
    "    ---------\n",
    "    g: function\n",
    "        function 'g' such that x = g(x)\n",
    "    x: float\n",
    "        Initial guess of root\n",
    "    tol: float\n",
    "        tolerance\n",
    "    n: int\n",
    "        maximum number of iterations\n",
    "    \"\"\"\n",
    "    next_sequence_item = lambda x: g(x)\n",
    "\n",
    "    print(\"x0\\t xi\\t |xi-x0|\")\n",
    "\n",
    "    x_old = x\n",
    "    x = next_sequence_item(x)\n",
    "    n = n - 1\n",
    "    print(x_old, x, abs(x - x_old), \"\\n\")\n",
    "    while abs(x - x_old) > tol and n > 0:\n",
    "        x_old = x\n",
    "        x = next_sequence_item(x)\n",
    "        n = n - 1\n",
    "        print(x_old, x, abs(x - x_old), \"\\n\")\n",
    "\n",
    "    return x"
   ]
  },
  {
   "cell_type": "code",
   "execution_count": 33,
   "metadata": {
    "tags": []
   },
   "outputs": [
    {
     "output_type": "stream",
     "name": "stdout",
     "text": "x0\t xi\t |xi-x0|\n1.2 1.2068263123325207 0.006826312332520734 \n\n1.2068263123325207 1.2077007364798333 0.0008744241473126468 \n\n1.2077007364798333 1.2078116048077343 0.00011086832790097034 \n\n1.2078116048077343 1.2078256432772925 1.4038469558164124e-05 \n\n1.2078256432772925 1.2078274205714816 1.777294189153622e-06 \n\n1.2078274205714816 1.2078276455751866 2.2500370500111444e-07 \n\n"
    },
    {
     "output_type": "execute_result",
     "data": {
      "text/plain": "1.2078276455751866"
     },
     "metadata": {},
     "execution_count": 33
    }
   ],
   "source": [
    "## Using Fixed Point method\n",
    "\n",
    "from math import cos, sin, acos, inf\n",
    "\n",
    "f = lambda x: sin(x) + 3*cos(x) - 2\n",
    "g = lambda x: acos((2 - sin(x))/3)\n",
    "x = 1.2\n",
    "tol = 1e-6\n",
    "n = inf\n",
    "\n",
    "fixed_point(g, x, tol, n)"
   ]
  },
  {
   "cell_type": "markdown",
   "metadata": {},
   "source": [
    "## Newton's method"
   ]
  },
  {
   "cell_type": "code",
   "execution_count": 28,
   "metadata": {},
   "outputs": [],
   "source": [
    "def newton(f, f_der, x, tol, n):\n",
    "    \"\"\"\n",
    "    Arguments\n",
    "    ---------\n",
    "    f: function\n",
    "        function `f` to find root of\n",
    "    f_der: function\n",
    "        Derivative of `f`\n",
    "    x: float\n",
    "        Initial guess of root\n",
    "    tol: float \n",
    "        tolerance\n",
    "    n: int\n",
    "        maximum number of iterations\n",
    "    \"\"\"\n",
    "    next_sequence_item = lambda x: x - f(x)/f_der(x)\n",
    "    print(\"x0\\t f(x0)\\t f'(x0)\\t xi\\n\")\n",
    "\n",
    "\n",
    "    x_old = x\n",
    "    x = next_sequence_item(x)\n",
    "    n = n - 1\n",
    "    print(x_old, f(x_old), f_der(x_old), x, \"\\n\")\n",
    "    while abs(x - x_old) > tol and n > 0:\n",
    "        x_old = x\n",
    "        x = next_sequence_item(x)\n",
    "        n = n - 1\n",
    "        # print(x, f(x))\n",
    "        print(x_old, f(x_old), f_der(x_old), x, \"\\n\")\n",
    "\n",
    "    return x"
   ]
  },
  {
   "cell_type": "code",
   "execution_count": 29,
   "metadata": {
    "tags": []
   },
   "outputs": [
    {
     "output_type": "stream",
     "name": "stdout",
     "text": "x0\t f(x0)\t f&#39;(x0)\t xi\n\n1 0.4623779024123156 -1.9841106485555495 1.2330403814670976 \n\n1.2330403814670976 -0.06238736192226346 -2.4991313020250527 1.208076762360046 \n\n1.208076762360046 -0.0006101911580547181 -2.449987835132854 1.2078277035078735 \n\n1.2078277035078735 -6.201769453539896e-08 -2.4494897934204123 1.2078276781892563 \n\n"
    },
    {
     "output_type": "execute_result",
     "data": {
      "text/plain": "1.2078276781892563"
     },
     "metadata": {},
     "execution_count": 29
    }
   ],
   "source": [
    "## Using newton's method\n",
    "\n",
    "from math import cos, sin, inf\n",
    "\n",
    "f = lambda x: sin(x) + 3*cos(x) - 2\n",
    "f_der = lambda x: cos(x) - 3*sin(x)\n",
    "x = 1\n",
    "tol = 1e-6\n",
    "n = inf\n",
    "\n",
    "newton(f, f_der, x, tol, n)"
   ]
  },
  {
   "cell_type": "markdown",
   "metadata": {},
   "source": [
    "## Secant Method"
   ]
  },
  {
   "cell_type": "code",
   "execution_count": 18,
   "metadata": {},
   "outputs": [],
   "source": [
    "def secant(f, x0, x1, tol, n):\n",
    "    \"\"\"\n",
    "    Arguments\n",
    "    ---------\n",
    "    f: function\n",
    "        function `f` to find root of\n",
    "    x0, x1: float\n",
    "        Initial two guess of root\n",
    "    tol: float \n",
    "        tolerance\n",
    "    n: int\n",
    "        maximum number of iterations\n",
    "    \"\"\"\n",
    "    next_sequence_item = lambda x0, x1: x1 - f(x1)*(x1-x0)/(f(x1)-f(x0))\n",
    "\n",
    "    print(\"x0\\t x1\\t f(x0)\\t f(x1)\\t xi\\n\")\n",
    "    x2 = next_sequence_item(x0, x1)\n",
    "    n = n - 1\n",
    "    print(x0, x1, f(x0), f(x1), x2, \"\\n\")\n",
    "    while abs(x2 - x1) > tol and n > 0:\n",
    "        x0 = x1\n",
    "        x1 = x2\n",
    "        x2 = next_sequence_item(x0, x1)\n",
    "        n = n - 1\n",
    "        print(x0, x1, f(x0), f(x1), x2, \"\\n\")\n",
    "        # print(x)\n",
    "\n",
    "    return x1"
   ]
  },
  {
   "cell_type": "code",
   "execution_count": 19,
   "metadata": {
    "tags": []
   },
   "outputs": [
    {
     "output_type": "stream",
     "name": "stdout",
     "text": "x0\t x1\t f(x0)\t f(x1)\t xi\n\n0 1.5 1.0 -0.7902934083928368 0.8378514901345496 \n\n1.5 0.8378514901345496 -0.7902934083928368 0.7503908234313568 1.160351166115188 \n\n0.8378514901345496 1.160351166115188 0.7503908234313568 0.11399595056302925 1.2181197916762054 \n\n1.160351166115188 1.2181197916762054 0.11399595056302925 -0.02531590800518302 1.20762201190843 \n\n1.2181197916762054 1.20762201190843 -0.02531590800518302 0.0005037351431487203 1.2078268211137193 \n\n1.20762201190843 1.2078268211137193 0.0005037351431487203 2.0993970011318197e-06 1.2078276782612305 \n\n"
    },
    {
     "output_type": "execute_result",
     "data": {
      "text/plain": "1.2078268211137193"
     },
     "metadata": {},
     "execution_count": 19
    }
   ],
   "source": [
    "## Using secant method\n",
    "\n",
    "from math import sin, cos, inf\n",
    "\n",
    "f = lambda x: sin(x) + 3*cos(x) - 2\n",
    "x0 = 0\n",
    "x1 = 1.5\n",
    "tol = 1e-6\n",
    "n = inf\n",
    "\n",
    "secant(f, x0, x1, tol, n)"
   ]
  },
  {
   "cell_type": "markdown",
   "metadata": {},
   "source": [
    "## False Position Method "
   ]
  },
  {
   "cell_type": "code",
   "execution_count": 20,
   "metadata": {},
   "outputs": [],
   "source": [
    "from math import inf\n",
    "\n",
    "def false_position(f, x0, x1, tol, n):\n",
    "    \"\"\"\n",
    "    Arguments\n",
    "    ---------\n",
    "    f: function\n",
    "        function `f` to find root of\n",
    "    x0, x1: float\n",
    "        Initial two guess of root\n",
    "    tol: float \n",
    "        tolerance\n",
    "    n: int\n",
    "        maximum number of iterations\n",
    "    \"\"\"\n",
    "    print(\"x0\\t x1\\t f(x0)\\t f(x1)\\t xi\\n\")\n",
    "    next_sequence_item = lambda x0, x1: x1 - f(x1)*(x1-x0)/(f(x1)-f(x0))\n",
    "    x2 = next_sequence_item(x0, x1)\n",
    "    n = n - 1\n",
    "    # print(x2, f(x2))\n",
    "    print(x0, x1, f(x0), f(x1), x2, \"\\n\")\n",
    "\n",
    "    while abs(x2 - x1) > tol and n > 0:\n",
    "        if f(x1)*f(x2) < 0:\n",
    "            x3 = next_sequence_item(x1, x2)\n",
    "            x0 = x1\n",
    "            x1 = x2\n",
    "            x2 = x3\n",
    "        else:\n",
    "            x3 = next_sequence_item(x0, x2)\n",
    "            x1 = x2\n",
    "            x2 = x3\n",
    "        n = n - 1\n",
    "        # print(x2, f(x2))\n",
    "        print(x0, x1, f(x0), f(x1), x2, \"\\n\")\n",
    "    \n",
    "    return x2"
   ]
  },
  {
   "cell_type": "code",
   "execution_count": 21,
   "metadata": {
    "tags": []
   },
   "outputs": [
    {
     "output_type": "stream",
     "name": "stdout",
     "text": "x0\t x1\t f(x0)\t f(x1)\t xi\n\n0 1.5 1.0 -0.7902934083928368 0.8378514901345496 \n\n1.5 0.8378514901345496 -0.7902934083928368 0.7503908234313568 1.160351166115188 \n\n1.5 1.160351166115188 -0.7902934083928368 0.11399595056302925 1.2031677615919165 \n\n1.5 1.2031677615919165 -0.7902934083928368 0.01139266181370946 1.2073860079021193 \n\n1.5 1.2073860079021193 -0.7902934083928368 0.0010816717302200018 1.2077859602016912 \n\n1.5 1.2077859602016912 -0.7902934083928368 0.00010218604220924021 1.2078237390005802 \n\n1.5 1.2078237390005802 -0.7902934083928368 9.648986738941545e-06 1.207827306245881 \n\n1.5 1.207827306245881 -0.7902934083928368 9.110713432569639e-07 1.2078276430699757 \n\n"
    },
    {
     "output_type": "execute_result",
     "data": {
      "text/plain": "1.2078276430699757"
     },
     "metadata": {},
     "execution_count": 21
    }
   ],
   "source": [
    "## Using false position\n",
    "\n",
    "from math import sin, cos, inf\n",
    "\n",
    "f = lambda x: sin(x) + 3*cos(x) - 2\n",
    "x0 = 0\n",
    "x1 = 1.5\n",
    "tol = 1e-6\n",
    "n = inf\n",
    "\n",
    "false_position(f, x0, x1, tol, n)"
   ]
  },
  {
   "cell_type": "markdown",
   "metadata": {},
   "source": [
    "## Finding non-simple roots\n",
    "\n",
    "Finding roots with multiplicity `m > 1`. "
   ]
  },
  {
   "cell_type": "markdown",
   "metadata": {},
   "source": [
    "## Modified Netwon's method"
   ]
  },
  {
   "cell_type": "code",
   "execution_count": 34,
   "metadata": {},
   "outputs": [],
   "source": [
    "def modified_newton(f, f_der, f_der2, x, tol, n):\n",
    "    \"\"\"\n",
    "    Arguments\n",
    "    ---------\n",
    "    f: function\n",
    "        function `f` to find root of\n",
    "    f_der: function\n",
    "        Derivative of `f`\n",
    "    f_der2: function\n",
    "        Derivative of `f_der`\n",
    "    x: float\n",
    "        Initial guess of root\n",
    "    tol: float \n",
    "        tolerance\n",
    "    n: int\n",
    "        maximum number of iterations\n",
    "    \"\"\"\n",
    "    numerator = lambda x: f(x)*f_der(x)\n",
    "    denominator = lambda x: f_der(x)**2 - f(x)*f_der2(x)\n",
    "    next_sequence_item = lambda x: x - numerator(x)/denominator(x)\n",
    "    \n",
    "    print(\"x0\\t f(x) \\t f'(x)\\t f''(x)\\t xi\")\n",
    "\n",
    "    x_old = x\n",
    "    x = next_sequence_item(x)\n",
    "    n = n - 1\n",
    "    print(x_old, f(x_old), f_der(x_old), f_der2(x_old), x, \"\\n\")\n",
    "    while abs(x - x_old) > tol and n > 0:\n",
    "        x_old = x\n",
    "        x = next_sequence_item(x)\n",
    "        n = n - 1\n",
    "        print(x_old, f(x_old), f_der(x_old), f_der2(x_old), x, \"\\n\")\n",
    "\n",
    "    return x"
   ]
  },
  {
   "cell_type": "code",
   "execution_count": 35,
   "metadata": {
    "tags": []
   },
   "outputs": [
    {
     "output_type": "stream",
     "name": "stdout",
     "text": "x0\t f(x) \t f&#39;(x)\t f&#39;&#39;(x)\t xi\n0 -5 11 -14 1.0784313725490196 \n\n1.0784313725490196 -0.02412345176440578 -0.6089965397923862 -7.529411764705882 1.000799840031984 \n\n1.000799840031984 -2.5584646135001776e-06 -0.006396801023640819 -7.995200959808097 1.000000080000394 \n\n1.000000080000394 -2.6645352591003757e-14 -6.40003133156597e-07 -7.999999519997635 0.999999993190148 \n\n"
    },
    {
     "output_type": "execute_result",
     "data": {
      "text/plain": "0.999999993190148"
     },
     "metadata": {},
     "execution_count": 35
    }
   ],
   "source": [
    "## Using modifed newton's method\n",
    "\n",
    "from math import inf\n",
    "\n",
    "f = lambda x: x**3 - 7*x**2 + 11*x - 5\n",
    "f_der = lambda x: 3*x**2 - 14*x + 11\n",
    "f_der2 = lambda x: 6*x - 14\n",
    "x = 0\n",
    "tol = 1e-6\n",
    "n = inf\n",
    "\n",
    "modified_newton(f, f_der, f_der2, x, tol, n)"
   ]
  },
  {
   "cell_type": "markdown",
   "metadata": {},
   "source": [
    "## Muller's method"
   ]
  },
  {
   "cell_type": "code",
   "execution_count": null,
   "metadata": {},
   "outputs": [],
   "source": [
    "from cmath import sqrt\n",
    "\n",
    "def muller(f, x0, x1, x2, tol, n):\n",
    "    \"\"\"\n",
    "    Arguments\n",
    "    ---------\n",
    "    f: function\n",
    "        function `f` to find root of\n",
    "    x0, x1, x2: complex/float\n",
    "        Initial 3 guesses of root\n",
    "    tol: float \n",
    "        tolerance\n",
    "    n: int\n",
    "        maximum number of iterations\n",
    "    \"\"\"\n",
    "    # print(x0, x1, x2)\n",
    "    while abs(x2 - x1) > tol and n > 0:\n",
    "        h1 = x1 - x0\n",
    "        h2 = x2 - x1\n",
    "        δ1 = (f(x1)-f(x0))/h1\n",
    "        δ2 = (f(x2)-f(x1))/h2\n",
    "\n",
    "        # Coefficients of parabola (as quadratic eqn)\n",
    "        a = (δ2 - δ1)/(h2 + h1)\n",
    "        b = δ2 + h2*a\n",
    "        c = f(x2)\n",
    "\n",
    "        D = sqrt(b**2 - 4*a*c)\n",
    "        E = b+D if abs(b-D) < abs(b+D) else b-D\n",
    "        \n",
    "        # Root approximation\n",
    "        x = x2 - 2*c/E\n",
    "\n",
    "        # Update sequence variables\n",
    "        x0 = x1\n",
    "        x1 = x2\n",
    "        x2 = x\n",
    "        n = n - 1\n",
    "        # print(x0, x1, x2)\n",
    "    \n",
    "    return x2"
   ]
  },
  {
   "cell_type": "code",
   "execution_count": null,
   "metadata": {
    "tags": []
   },
   "outputs": [],
   "source": [
    "## Using muller's method\n",
    "\n",
    "from math import inf\n",
    "\n",
    "f = lambda x: x**3 - 5*x - 1\n",
    "x0 = 0\n",
    "x1 = 0.5\n",
    "x2 = 1\n",
    "tol = 1e-6\n",
    "n = inf\n",
    "\n",
    "muller(f, x0, x1, x2, tol, n)"
   ]
  }
 ]
}