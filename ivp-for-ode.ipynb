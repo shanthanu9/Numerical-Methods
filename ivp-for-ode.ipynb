{
 "metadata": {
  "language_info": {
   "codemirror_mode": {
    "name": "ipython",
    "version": 3
   },
   "file_extension": ".py",
   "mimetype": "text/x-python",
   "name": "python",
   "nbconvert_exporter": "python",
   "pygments_lexer": "ipython3",
   "version": "3.8.6-final"
  },
  "orig_nbformat": 2,
  "kernelspec": {
   "name": "python3",
   "display_name": "Python 3"
  }
 },
 "nbformat": 4,
 "nbformat_minor": 2,
 "cells": [
  {
   "source": [
    "## Euler's Forward Method"
   ],
   "cell_type": "markdown",
   "metadata": {}
  },
  {
   "cell_type": "code",
   "execution_count": null,
   "metadata": {},
   "outputs": [],
   "source": [
    "def euler(f, x0, y0, h, N, y_exact):\n",
    "    x = x0\n",
    "    y = y0\n",
    "    print('approximations:')\n",
    "    for i in range(0,N+1):\n",
    "        # print('N:',i,'x=',x,'is y=',y,'exact y=',y_exact(x,y),'abs error=',abs(y_exact(x,y)-y))\n",
    "        print('N:',i,'x =',x,'is y =',y)\n",
    "        y = y + h*f(x,y)\n",
    "        x = x + h"
   ]
  },
  {
   "cell_type": "code",
   "execution_count": null,
   "metadata": {},
   "outputs": [],
   "source": [
    "from math import e\n",
    "\n",
    "x0 = 0   # x value of initial approximation\n",
    "y0 = 1/2  # y value of initial approximation\n",
    "h = 0.1  # common distance\n",
    "N = 10  # number of approximations to find\n",
    "\n",
    "f = lambda x, y: y - x  # function such that y' = f\n",
    "\n",
    "# actual value of function, used to compute error\n",
    "y_exact = lambda x: x + 1 - 0.5*e**x\n",
    "\n",
    "euler(f, x0, y0, h, N, y_exact)"
   ]
  },
  {
   "source": [
    "## Higher Order Taylor Methods"
   ],
   "cell_type": "markdown",
   "metadata": {}
  },
  {
   "cell_type": "code",
   "execution_count": null,
   "metadata": {},
   "outputs": [],
   "source": [
    "import math\n",
    "\n",
    "def taylor_poly(f, x, y):\n",
    "    res = 0\n",
    "    n = len(f)\n",
    "    for i in range(0,n):\n",
    "        res += (h**i/math.factorial(i+1))*f[i](x,y)\n",
    "    return res\n",
    "\n",
    "def taylor(f, x0, y0, h, N, y_exact):\n",
    "    x = x0\n",
    "    y = y0\n",
    "    print('approximations for order', n)\n",
    "    for i in range(0,N+1):\n",
    "        # print('N:',i,'x=',x,'is y=',y,'exact y=',y_exact(x,y),'abs error=',abs(y_exact(x,y)-y))\n",
    "        print('N:', i, 'x = ', x, 'is y = ', y)\n",
    "        y = y + h*taylor_poly(f, x, y)\n",
    "        x = x + h"
   ]
  },
  {
   "cell_type": "code",
   "execution_count": null,
   "metadata": {},
   "outputs": [],
   "source": [
    "x0 = 0   # x value of initial approximation\n",
    "y0 = 1/2  # y value of initial approximation\n",
    "h = 0.2  # common distance\n",
    "N = 10  # number of approximations to find\n",
    "n = 4  # order of taylor polynomial\n",
    "\n",
    "# x and t are interchangeable, so are y and w\n",
    "\n",
    "f = []\n",
    "\n",
    "f.append(lambda x,y: y - x**2 + 1)          # function y' = f\n",
    "f.append(lambda x,y: y - x**2 - 2*x + 1)    # function y'' = f'\n",
    "f.append(lambda x,y: y - x**2 - 2*x - 1)    # function y''' = f''\n",
    "f.append(lambda x,y: y - x**2 - 2*x - 1)    # function y'''' = f'''\n",
    "\n",
    "assert len(f) == n, 'Coefficients of taylor polynomial do not match order' \n",
    "\n",
    "y_exact = None\n",
    "\n",
    "taylor(f, x0, y0, h, N, y_exact)"
   ]
  },
  {
   "source": [
    "## Runge-Kutta Methods"
   ],
   "cell_type": "markdown",
   "metadata": {}
  },
  {
   "cell_type": "code",
   "execution_count": null,
   "metadata": {},
   "outputs": [],
   "source": [
    "# <<<<<<<< RUNGE KUTTA METHOD OF ORDER TWO (MIDPOINT METHOD)\n",
    "\n",
    "def runge_kutta_order2(f, x0, y0, h, N, y_exact):\n",
    "    x = x0\n",
    "    y = y0\n",
    "    print('approximations:')\n",
    "    for i in range(0,N+1):\n",
    "        # print('N:',i,'x=',x,'is y=',y,'exact y=',y_exact(x,y),'abs error=',abs(y_exact(x,y)-y))\n",
    "        print('N:',i,'x = ',x,'is y =',y)\n",
    "        y = y + h*f(x + h/2, y + h/2*f(x,y))\n",
    "        x = x + h\n",
    "# <<<<<<<< MODIFIED EULER METHOD\n",
    "\n",
    "def modified_euler(f, x0, y0, h, N, y_exact):\n",
    "    x = x0\n",
    "    y = y0\n",
    "    print('approximations:')\n",
    "    for i in range(0,N+1):\n",
    "        # print('N:',i,'x=',x,'is y=',y,'exact y=',y_exact(x,y),'abs error=',abs(y_exact(x,y)-y))\n",
    "        print('N:',i,'x = ',x,'is y =',y)\n",
    "        x_nxt = x + h\n",
    "        y = y + h/2*(f(x,y) + f(x_nxt, y + h*f(x,y)))\n",
    "        x = x_nxt\n",
    "\n",
    "# <<<<<<<< HEUN METHOD\n",
    "\n",
    "def heun(f, x0, y0, h, N, y_exact):\n",
    "    x = x0\n",
    "    y = y0\n",
    "    print('approximations:')\n",
    "    for i in range(0,N+1):\n",
    "        # print('N:',i,'x=',x,'is y=',y,'exact y=',y_exact(x,y),'abs error=',abs(y_exact(x,y)-y))\n",
    "        print('N:',i,'x = ',x,'is y =',y)\n",
    "        y = y + h/4*(f(x,y) + 3*f(x + 2*h/3, y + 2*h/3*f(x + h/3, y + h/3*f(x,y))))\n",
    "        x = x + h\n",
    "\n",
    "# <<<<<<<< RUNGE KUTTA METHOD OF ORDER FOUR\n",
    "\n",
    "def runge_kutta_order4(f, x0, y0, h, N, y_exact):\n",
    "    x = x0\n",
    "    y = y0\n",
    "    print('approximations:')\n",
    "    for i in range(0,N+1):\n",
    "        # print('N:',i,'x=',x,'is y=',y,'exact y=',y_exact(x,y),'abs error=',abs(y_exact(x,y)-y))\n",
    "        print('N:',i,'x = ',x,'is y =',y)\n",
    "        x_nxt = x + h\n",
    "        k1 = h*f(x,y)\n",
    "        k2 = h*f(x + h/2, y + k1/2)\n",
    "        k3 = h*f(x + h/2, y + k2/2)\n",
    "        k4 = h*f(x_nxt, y + k3) \n",
    "        y = y + 1/6*(k1 + 2*k2 + 2*k3 + k4)\n",
    "        x = x_nxt"
   ]
  },
  {
   "cell_type": "code",
   "execution_count": null,
   "metadata": {},
   "outputs": [],
   "source": [
    "# Runge Kutta method of order 2\n",
    "\n",
    "x0 = 0   # x value of initial approximation\n",
    "y0 = 1/2  # y value of initial approximation\n",
    "h = 0.2  # common distance\n",
    "N = 10  # number of approximations to find\n",
    "\n",
    "f = lambda x, y: y - x**2 + 1 # function such that y' = f\n",
    "\n",
    "# actual value of function, used to compute error\n",
    "y_exact = None"
   ]
  },
  {
   "cell_type": "code",
   "execution_count": null,
   "metadata": {},
   "outputs": [],
   "source": [
    "runge_kutta_order2(f, x0, y0, h, N, y_exact)"
   ]
  },
  {
   "cell_type": "code",
   "execution_count": null,
   "metadata": {},
   "outputs": [],
   "source": [
    "modified_euler(f, x0, y0, h, N, y_exact)"
   ]
  },
  {
   "cell_type": "code",
   "execution_count": null,
   "metadata": {},
   "outputs": [],
   "source": [
    "heun(f, x0, y0, h, N, y_exact)"
   ]
  },
  {
   "cell_type": "code",
   "execution_count": null,
   "metadata": {},
   "outputs": [],
   "source": [
    "runge_kutta_order4(f, x0, y0, h, N, y_exact)"
   ]
  }
 ]
}