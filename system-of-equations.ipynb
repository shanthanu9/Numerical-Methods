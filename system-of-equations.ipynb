{
 "metadata": {
  "language_info": {
   "codemirror_mode": {
    "name": "ipython",
    "version": 3
   },
   "file_extension": ".py",
   "mimetype": "text/x-python",
   "name": "python",
   "nbconvert_exporter": "python",
   "pygments_lexer": "ipython3",
   "version": "3.8.6-final"
  },
  "orig_nbformat": 2,
  "kernelspec": {
   "name": "venv",
   "display_name": "venv"
  }
 },
 "nbformat": 4,
 "nbformat_minor": 2,
 "cells": [
  {
   "cell_type": "markdown",
   "metadata": {},
   "source": [
    "# System of Linear equations\n",
    "\n",
    "Iterative techniques to find solutions of `AX = b`"
   ]
  },
  {
   "cell_type": "markdown",
   "metadata": {},
   "source": [
    "## Jacobi method"
   ]
  },
  {
   "cell_type": "code",
   "execution_count": 1,
   "metadata": {},
   "outputs": [],
   "source": [
    "import numpy as np\n",
    "\n",
    "def jacobi(dim, A, B, tol, n):\n",
    "    \"\"\"\n",
    "    Arguments\n",
    "    ---------\n",
    "    dim: int\n",
    "        Dimension of square matrix `A`\n",
    "    A: 2D np.array\n",
    "        Coefficient matrix\n",
    "    B: np.array\n",
    "        Constant matrix\n",
    "    tol: float\n",
    "        tolerance\n",
    "    n: int\n",
    "        maximum number of iterations\n",
    "    \"\"\"\n",
    "    X0 = np.array(dim*[np.inf])\n",
    "    X1 = np.array(dim*[0.]) # Initial vector\n",
    "\n",
    "    iterations = 0\n",
    "    while np.max(abs(X0 - X1)) > tol and iterations < n:\n",
    "        X0 = X1\n",
    "        X1 = np.array(dim*[0.])\n",
    "\n",
    "        for i in range(dim):\n",
    "            for j in range(dim):\n",
    "                if j != i:\n",
    "                    X1[i] += (-A[i][j]*X0[j])\n",
    "            X1[i] += B[i]\n",
    "            X1[i] /= A[i][i]\n",
    "        \n",
    "        print(X1)\n",
    "        iterations += 1\n",
    "\n",
    "    print(\"iterations:\", iterations)\n",
    "    \n",
    "    return X1"
   ]
  },
  {
   "cell_type": "code",
   "execution_count": 2,
   "metadata": {
    "tags": []
   },
   "outputs": [
    {
     "output_type": "stream",
     "name": "stdout",
     "text": "[5.66666667 5.1        0.625     ]\n[4.73       3.90416667 1.19166667]\n[5.04472222 4.03483333 1.00979167]\n[4.99433889 3.99007639 1.00311806]\n[5.00240046 4.00082042 0.99822674]\n[4.99959948 3.99969723 0.99990505]\n[5.00004789 4.0000896  0.99997437]\n[4.99997866 3.99999298 1.00001641]\n[5.00000359 4.00000263 1.00000091]\n[4.9999996  3.99999919 1.00000021]\niterations: 10\n"
    },
    {
     "output_type": "execute_result",
     "data": {
      "text/plain": "array([4.9999996 , 3.99999919, 1.00000021])"
     },
     "metadata": {},
     "execution_count": 2
    }
   ],
   "source": [
    "import numpy as np\n",
    "\n",
    "dim = 3\n",
    "A = np.array([\n",
    "    [15, 3, -2],\n",
    "    [2, 10, 1],\n",
    "    [1, -2, 8]\n",
    "    ], dtype=float)\n",
    "B = np.array([85, 51, 5], dtype=float)\n",
    "tol = 1e-5\n",
    "n = 100\n",
    "\n",
    "jacobi(dim, A, B, tol, n)"
   ]
  },
  {
   "cell_type": "markdown",
   "metadata": {},
   "source": [
    "## Gauss-Seidel method"
   ]
  },
  {
   "cell_type": "code",
   "execution_count": 3,
   "metadata": {},
   "outputs": [],
   "source": [
    "import numpy as np\n",
    "\n",
    "def gauss_seidel(dim, A, B, tol, n):\n",
    "    \"\"\"\n",
    "    Arguments\n",
    "    ---------\n",
    "    dim: int\n",
    "        Dimension of square matrix `A`\n",
    "    A: 2D np.array\n",
    "        Coefficient matrix\n",
    "    B: np.array\n",
    "        Constant matrix\n",
    "    tol: float\n",
    "        tolerance\n",
    "    n: int\n",
    "        maximum number of iterations\n",
    "    \"\"\"\n",
    "    X0 = np.array(dim*[np.inf])\n",
    "    X1 = np.array(dim*[0.]) # Initial vector\n",
    "\n",
    "    iterations = 0\n",
    "    while np.max(abs(X0 - X1)) > tol and iterations < n:\n",
    "        X0 = X1\n",
    "        X1 = np.array(dim*[0.])\n",
    "\n",
    "        for i in range(dim):\n",
    "            for j in range(i):\n",
    "                X1[i] += (-A[i][j]*X1[j])\n",
    "            for j in range(i+1, dim):\n",
    "                X1[i] += (-A[i][j]*X0[j])\n",
    "            \n",
    "            X1[i] += B[i]\n",
    "            X1[i] /= A[i][i]\n",
    "        \n",
    "        print(X1)\n",
    "        iterations += 1\n",
    "\n",
    "    print(\"iterations:\", iterations)\n",
    "    \n",
    "    return X1"
   ]
  },
  {
   "cell_type": "code",
   "execution_count": 4,
   "metadata": {
    "tags": []
   },
   "outputs": [
    {
     "output_type": "stream",
     "name": "stdout",
     "text": "[1.         0.625      1.04166667]\n[1.10416667 1.02864583 0.97366898]\n[0.98625579 0.98840784 1.00434229]\n[1.00398361 1.00212631 0.9988785 ]\n[0.99918805 0.99947794 1.00023844]\n[1.00019012 1.00011318 0.99994517]\n[0.999958   0.99997419 1.0000122 ]\n[1.0000095  1.00000576 0.99999725]\n[0.99999787 0.9999987  1.00000062]\n[1.00000048 1.00000029 0.99999986]\niterations: 10\n"
    },
    {
     "output_type": "execute_result",
     "data": {
      "text/plain": "array([1.00000048, 1.00000029, 0.99999986])"
     },
     "metadata": {},
     "execution_count": 4
    }
   ],
   "source": [
    "import numpy as np\n",
    "\n",
    "dim = 3\n",
    "A = np.array([\n",
    "    [8, 2, -2],\n",
    "    [1, -8, 3],\n",
    "    [2, 1, 9]\n",
    "    ], dtype=float)\n",
    "B = np.array([8, -4, 12], dtype=float)\n",
    "tol = 1e-5\n",
    "n = 100\n",
    "\n",
    "gauss_seidel(dim, A, B, tol, n)"
   ]
  },
  {
   "cell_type": "markdown",
   "metadata": {},
   "source": [
    "## SOR (Succesive Over Reduction) method"
   ]
  },
  {
   "cell_type": "code",
   "execution_count": 7,
   "metadata": {},
   "outputs": [],
   "source": [
    "import numpy as np\n",
    "\n",
    "def SOR(dim, A, B, ω, tol, n):\n",
    "    \"\"\"\n",
    "    Arguments\n",
    "    ---------\n",
    "    dim: int\n",
    "        Dimension of square matrix `A`\n",
    "    A: 2D np.array\n",
    "        Coefficient matrix\n",
    "    B: np.array\n",
    "        Constant matrix\n",
    "    ω: float\n",
    "        Weigth to residual part of Gauss-Siedel method\n",
    "    tol: float\n",
    "        tolerance\n",
    "    n: int\n",
    "        maximum number of iterations\n",
    "    \"\"\"\n",
    "    X0 = np.array(dim*[np.inf])\n",
    "    X1 = np.array(dim*[0.]) # Initial vector\n",
    "\n",
    "    iterations = 0\n",
    "    while np.max(abs(X0 - X1)) > tol and iterations < n:\n",
    "        X0 = X1\n",
    "        X1 = np.array(dim*[0.])\n",
    "\n",
    "        for i in range(dim):\n",
    "            for j in range(i):\n",
    "                X1[i] += (-A[i][j]*X1[j])\n",
    "            for j in range(i+1, dim):\n",
    "                X1[i] += (-A[i][j]*X0[j])\n",
    "            X1[i] += B[i]\n",
    "            X1[i] /= A[i][i]\n",
    "\n",
    "            X1[i] *= ω\n",
    "            X1[i] += (1-ω)*X0[i]\n",
    "        \n",
    "        print(X1)\n",
    "        iterations += 1\n",
    "\n",
    "    print(\"iterations:\", iterations)\n",
    "    \n",
    "    return X1"
   ]
  },
  {
   "cell_type": "code",
   "execution_count": 9,
   "metadata": {
    "tags": []
   },
   "outputs": [
    {
     "output_type": "stream",
     "name": "stdout",
     "text": "[ 1.65       -2.805       1.2111      1.6654275   3.06780994]\n[ 1.07967477 -1.260654    2.04248922  1.9953725   2.0495358 ]\n[ 0.76340549 -0.87330065  1.86185863  1.9322527   1.90600341]\n[ 0.77765507 -1.00663597  1.85752216  1.90462358  2.00009655]\n[ 0.78821424 -1.00889485  1.86842882  1.9126684   1.99271663]\n[ 0.78680966 -1.00120508  1.86641069  1.91303736  1.9885688 ]\n[ 0.78653107 -1.0024766   1.86618347  1.9125117   1.98976499]\n[ 0.78664213 -1.00266623  1.86634656  1.91258751  1.98977367]\n[ 0.78663594 -1.0025574   1.86632762  1.91260294  1.98970349]\n[ 0.78663114 -1.00256781  1.86632187  1.91259564  1.98971666]\n[ 0.78663244 -1.00257203  1.86632409  1.91259617  1.98971813]\niterations: 11\n"
    },
    {
     "output_type": "execute_result",
     "data": {
      "text/plain": "array([ 0.78663244, -1.00257203,  1.86632409,  1.91259617,  1.98971813])"
     },
     "metadata": {},
     "execution_count": 9
    }
   ],
   "source": [
    "import numpy as np\n",
    "\n",
    "dim = 5\n",
    "A = np.array([\n",
    "    [4, 1, 1, 0, 1],\n",
    "    [-1, -3, 1 ,1, 0],\n",
    "    [2, 1, 5, -1, -1],\n",
    "    [-1, -1, -1, 4, 0],\n",
    "    [0, 2, -1, 1, 4]\n",
    "    ], dtype=float)\n",
    "B = np.array([6, 6, 6, 6, 6], dtype=float)\n",
    "ω = 1.1\n",
    "tol = 1e-5\n",
    "n = 100\n",
    "\n",
    "SOR(dim, A, B, ω, tol, n)"
   ]
  },
  {
   "source": [
    "# System of non-linear equations\n",
    "\n",
    "Atleast one equation is non-linear."
   ],
   "cell_type": "markdown",
   "metadata": {}
  },
  {
   "source": [
    "## Newton-Raphson method"
   ],
   "cell_type": "markdown",
   "metadata": {}
  },
  {
   "cell_type": "code",
   "execution_count": null,
   "metadata": {},
   "outputs": [],
   "source": [
    "import numpy as np\n",
    "\n",
    "def newton_raphson(F, J, X, tol, n):\n",
    "    \"\"\"\n",
    "    Arguments\n",
    "    ---------\n",
    "    F: function\n",
    "        Function returning vector of functions\n",
    "    J: function returning a matrix\n",
    "        Function returning Jacobian matrix\n",
    "    X: np.array\n",
    "        Initial approximation vector\n",
    "    tol: float\n",
    "        tolerance\n",
    "    n: int\n",
    "        maximum number of iterations\n",
    "    \"\"\"\n",
    "    E = np.array(np.inf) # Error vector\n",
    "\n",
    "    iterations = 0\n",
    "    while np.max(abs(E)) > tol and iterations < n:\n",
    "        E = -np.dot(np.linalg.inv(J(X)), F(X))\n",
    "        X = X + E\n",
    "        iterations += 1\n",
    "        print(X)\n",
    "\n",
    "    print(\"iterations:\", iterations)\n",
    "\n",
    "    return X"
   ]
  },
  {
   "cell_type": "code",
   "execution_count": null,
   "metadata": {
    "tags": []
   },
   "outputs": [],
   "source": [
    "import numpy as np\n",
    "from math import inf\n",
    "\n",
    "f = lambda x, y: x**2 + x*y + y**2 - 7\n",
    "g = lambda x, y: x**3 + y**3 - 9\n",
    "\n",
    "F = lambda X: np.array([f(*X), g(*X)])\n",
    "\n",
    "fx = lambda x, y: 2*x + y\n",
    "fy = lambda x, y: x + 2*y\n",
    "gx = lambda x, y: 3*x**2\n",
    "gy = lambda x, y: 3*y**2\n",
    "\n",
    "J = lambda X: np.array([\n",
    "    [fx(*X), fy(*X)],\n",
    "    [gx(*X), gy(*X)]\n",
    "])\n",
    "\n",
    "X = np.array([1.5, 0.5])\n",
    "tol = 1e-6\n",
    "n = inf\n",
    "\n",
    "newton_raphson(F, J, X, tol, n)"
   ]
  },
  {
   "cell_type": "code",
   "execution_count": null,
   "metadata": {
    "tags": []
   },
   "outputs": [],
   "source": [
    "# For 3 variables, x,y and z\n",
    "\n",
    "import numpy as np\n",
    "from math import inf, sin, cos\n",
    "\n",
    "f = lambda x, y, z: 10*x + sin(x+y) - 1\n",
    "g = lambda x, y, z: 8*y - cos(z-y)**2 - 1\n",
    "h = lambda x, y, z: 12*z + sin(z) - 1\n",
    "\n",
    "F = lambda X: np.array([f(*X), g(*X), h(*X)])\n",
    "\n",
    "fx = lambda x, y, z: 10 + cos(x+y)\n",
    "fy = lambda x, y, z: cos(x+y)\n",
    "fz = lambda x, y, z: 0\n",
    "gx = lambda x, y, z: 0\n",
    "gy = lambda x, y, z: 8 - 2*cos(z-y)*sin(z-y)\n",
    "gz = lambda x, y, z: 2*cos(z-y)*sin(z-y)\n",
    "hx = lambda x, y, z: 0\n",
    "hy = lambda x, y, z: 0\n",
    "hz = lambda x, y, z: 12 + cos(z)\n",
    "\n",
    "J = lambda X: np.array([\n",
    "    [fx(*X), fy(*X), fz(*X)],\n",
    "    [gx(*X), gy(*X), gz(*X)],\n",
    "    [hx(*X), hy(*X), hz(*X)]\n",
    "])\n",
    "\n",
    "X = np.array([1/10, 1/4, 1/12])\n",
    "tol = 1e-6\n",
    "n = inf\n",
    "\n",
    "newton_raphson(F, J, X, tol, n)"
   ]
  },
  {
   "cell_type": "code",
   "execution_count": null,
   "metadata": {
    "tags": []
   },
   "outputs": [],
   "source": [
    "# Using X instead of x, y, z, ... for math function lambdas\n",
    "# Use this as input method if there are 4 or more parameters\n",
    "\n",
    "import numpy as np\n",
    "from math import inf\n",
    "\n",
    "f = lambda X: X[0]**2 + X[0]*X[1] + X[1]**2 - 7\n",
    "g = lambda X: X[0]**3 + X[1]**3 - 9\n",
    "\n",
    "F = lambda X: np.array([f(X), g(X)])\n",
    "\n",
    "fx = lambda X: 2*X[0] + X[1]\n",
    "fy = lambda X: X[0] + 2*X[1]\n",
    "gx = lambda X: 3*X[0]**2\n",
    "gy = lambda X: 3*X[1]**2\n",
    "\n",
    "J = lambda X: np.array([\n",
    "    [fx(X), fy(X)],\n",
    "    [gx(X), gy(X)]\n",
    "])\n",
    "\n",
    "X = np.array([1.5, 0.5])\n",
    "tol = 1e-6\n",
    "n = inf\n",
    "\n",
    "newton_raphson(F, J, X, tol, n)"
   ]
  }
 ]
}